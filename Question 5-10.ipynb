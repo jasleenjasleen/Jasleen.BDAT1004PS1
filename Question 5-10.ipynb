{
 "cells": [
  {
   "cell_type": "code",
   "execution_count": 2,
   "metadata": {},
   "outputs": [],
   "source": [
    "# Question 5 File bloodtype1.txt records blood-types of patients (A, B, AB, O or OO) at a clinic. \n",
    "# Write a function bldcount() that reads the file with name name and reports (i.e., prints) how many patients there are in \n",
    "# each bloodtype.\n",
    "\n",
    "# bloodtype1.txt = AB AB B O A A AB O AB A O O A A A O O O AB O A A A A A AB AB A AB O AB O A O O O AB O AB AB AB A A O "
   ]
  },
  {
   "cell_type": "code",
   "execution_count": 14,
   "metadata": {},
   "outputs": [
    {
     "name": "stdout",
     "output_type": "stream",
     "text": [
      "Patients of blood group A, B, AB, O and OO are 15 1 13 15 0\n"
     ]
    }
   ],
   "source": [
    "def bldcount(name):                #defining bldcount as a function which reads the file with name\n",
    "    open_file=open(name,'r')       #Opening the file for reading\n",
    "    read_file=open_file.read()     #Reading file\n",
    "    file=list(read_file.split())   #spliting the string in the file and defining list as a file\n",
    "    \n",
    "    A=0              \n",
    "    B=0\n",
    "    AB=0\n",
    "    O=0\n",
    "    OO=0\n",
    "    \n",
    "    for i in file:     #intialising for statement and looking for letter in file\n",
    "        \n",
    "        if i=='A': \n",
    "            A=A+1     #intialising if else loop if found i as A blood group then increment the A variable by 1 as defined          \n",
    "            \n",
    "        elif i=='B': \n",
    "            B=B+1      #if found B blood group then increment the variable B with 1 and so on\n",
    "        \n",
    "        elif i=='AB' : \n",
    "            AB=AB+1    #if found AB blood group then increment the variable AB with 1 and so on\n",
    "        \n",
    "        elif i=='O' : \n",
    "            O=O+1      #if found O blood group then increment the variable O with 1 and so on\n",
    "        \n",
    "        else: \n",
    "            OO=OO+1    #IF found OO blood group then increment the variable OO with 1 and so on\n",
    "            \n",
    "    print('Patients of blood group A, B, AB, O and OO are', A, B, AB, O, OO)\n",
    "   \n",
    "bldcount(r'C:\\Users\\16479\\Downloads\\bloodtype1.txt') "
   ]
  },
  {
   "cell_type": "code",
   "execution_count": 15,
   "metadata": {},
   "outputs": [],
   "source": [
    "# Question 7\n",
    "# Each of the following will cause an exception (an error). Identify what type of exception each will cause. "
   ]
  },
  {
   "cell_type": "code",
   "execution_count": 18,
   "metadata": {},
   "outputs": [
    {
     "ename": "SyntaxError",
     "evalue": "invalid character in identifier (<ipython-input-18-576aa01d7396>, line 4)",
     "output_type": "error",
     "traceback": [
      "\u001b[1;36m  File \u001b[1;32m\"<ipython-input-18-576aa01d7396>\"\u001b[1;36m, line \u001b[1;32m4\u001b[0m\n\u001b[1;33m    6 + ‘a’\u001b[0m\n\u001b[1;37m          ^\u001b[0m\n\u001b[1;31mSyntaxError\u001b[0m\u001b[1;31m:\u001b[0m invalid character in identifier\n"
     ]
    }
   ],
   "source": [
    "# a\n",
    "# Trying to add incompatible variables, as in adding 6 + ‘a’ \n",
    "\n",
    "6 + ‘a’ \n",
    "\n",
    "# SyntaxError: invalid character in identifier           ##strings and integers cannot be added together"
   ]
  },
  {
   "cell_type": "code",
   "execution_count": 21,
   "metadata": {},
   "outputs": [
    {
     "ename": "IndexError",
     "evalue": "list index out of range",
     "output_type": "error",
     "traceback": [
      "\u001b[1;31m---------------------------------------------------------------------------\u001b[0m",
      "\u001b[1;31mIndexError\u001b[0m                                Traceback (most recent call last)",
      "\u001b[1;32m<ipython-input-21-bd082e494f17>\u001b[0m in \u001b[0;36m<module>\u001b[1;34m\u001b[0m\n\u001b[0;32m      3\u001b[0m \u001b[1;33m\u001b[0m\u001b[0m\n\u001b[0;32m      4\u001b[0m \u001b[0mA\u001b[0m\u001b[1;33m=\u001b[0m\u001b[1;33m[\u001b[0m\u001b[1;36m1\u001b[0m\u001b[1;33m,\u001b[0m\u001b[1;36m2\u001b[0m\u001b[1;33m,\u001b[0m\u001b[1;36m3\u001b[0m\u001b[1;33m,\u001b[0m\u001b[1;36m4\u001b[0m\u001b[1;33m,\u001b[0m\u001b[1;36m5\u001b[0m\u001b[1;33m,\u001b[0m\u001b[1;36m6\u001b[0m\u001b[1;33m,\u001b[0m\u001b[1;36m7\u001b[0m\u001b[1;33m,\u001b[0m\u001b[1;36m8\u001b[0m\u001b[1;33m,\u001b[0m\u001b[1;36m9\u001b[0m\u001b[1;33m,\u001b[0m\u001b[1;36m0\u001b[0m\u001b[1;33m]\u001b[0m\u001b[1;33m\u001b[0m\u001b[1;33m\u001b[0m\u001b[0m\n\u001b[1;32m----> 5\u001b[1;33m \u001b[0mA\u001b[0m\u001b[1;33m[\u001b[0m\u001b[1;36m12\u001b[0m\u001b[1;33m]\u001b[0m\u001b[1;33m\u001b[0m\u001b[1;33m\u001b[0m\u001b[0m\n\u001b[0m\u001b[0;32m      6\u001b[0m \u001b[1;33m\u001b[0m\u001b[0m\n\u001b[0;32m      7\u001b[0m \u001b[1;31m# IndexError: list index out of range   ### THIS is because 12th place number doesnt exist as list has only 10 numbers\u001b[0m\u001b[1;33m\u001b[0m\u001b[1;33m\u001b[0m\u001b[1;33m\u001b[0m\u001b[0m\n",
      "\u001b[1;31mIndexError\u001b[0m: list index out of range"
     ]
    }
   ],
   "source": [
    "# b \n",
    "# Referring to the 12th item of a list that has only 10 items \n",
    "\n",
    "A=[1,2,3,4,5,6,7,8,9,0]\n",
    "A[12]\n",
    "\n",
    "# IndexError: list index out of range   ### THIS is because 12th place number doesnt exist as list has only 10 numbers"
   ]
  },
  {
   "cell_type": "code",
   "execution_count": 23,
   "metadata": {},
   "outputs": [
    {
     "ename": "ValueError",
     "evalue": "math domain error",
     "output_type": "error",
     "traceback": [
      "\u001b[1;31m---------------------------------------------------------------------------\u001b[0m",
      "\u001b[1;31mValueError\u001b[0m                                Traceback (most recent call last)",
      "\u001b[1;32m<ipython-input-23-81b850e8de1d>\u001b[0m in \u001b[0;36m<module>\u001b[1;34m\u001b[0m\n\u001b[0;32m      3\u001b[0m \u001b[1;33m\u001b[0m\u001b[0m\n\u001b[0;32m      4\u001b[0m \u001b[1;32mimport\u001b[0m \u001b[0mmath\u001b[0m\u001b[1;33m\u001b[0m\u001b[1;33m\u001b[0m\u001b[0m\n\u001b[1;32m----> 5\u001b[1;33m \u001b[0mmath\u001b[0m\u001b[1;33m.\u001b[0m\u001b[0msqrt\u001b[0m\u001b[1;33m(\u001b[0m\u001b[1;33m-\u001b[0m\u001b[1;36m1.0\u001b[0m\u001b[1;33m)\u001b[0m\u001b[1;33m\u001b[0m\u001b[1;33m\u001b[0m\u001b[0m\n\u001b[0m\u001b[0;32m      6\u001b[0m \u001b[1;33m\u001b[0m\u001b[0m\n\u001b[0;32m      7\u001b[0m \u001b[1;31m# ValueError: math domain error   ###we cannot define square root of negative number\u001b[0m\u001b[1;33m\u001b[0m\u001b[1;33m\u001b[0m\u001b[1;33m\u001b[0m\u001b[0m\n",
      "\u001b[1;31mValueError\u001b[0m: math domain error"
     ]
    }
   ],
   "source": [
    "# c\n",
    "# Using a value that is out of range for a function’s input, such as calling math.sqrt(-1.0)  \n",
    "\n",
    "import math\n",
    "math.sqrt(-1.0)\n",
    "\n",
    "# ValueError: math domain error   ###we cannot define square root of negative number"
   ]
  },
  {
   "cell_type": "code",
   "execution_count": 26,
   "metadata": {},
   "outputs": [
    {
     "ename": "NameError",
     "evalue": "name 'x' is not defined",
     "output_type": "error",
     "traceback": [
      "\u001b[1;31m---------------------------------------------------------------------------\u001b[0m",
      "\u001b[1;31mNameError\u001b[0m                                 Traceback (most recent call last)",
      "\u001b[1;32m<ipython-input-26-882a10ba63a2>\u001b[0m in \u001b[0;36m<module>\u001b[1;34m\u001b[0m\n\u001b[0;32m      2\u001b[0m \u001b[1;31m# Using an undeclared variable, such as print(x) when x has not been defined\u001b[0m\u001b[1;33m\u001b[0m\u001b[1;33m\u001b[0m\u001b[1;33m\u001b[0m\u001b[0m\n\u001b[0;32m      3\u001b[0m \u001b[1;33m\u001b[0m\u001b[0m\n\u001b[1;32m----> 4\u001b[1;33m \u001b[0mprint\u001b[0m\u001b[1;33m(\u001b[0m\u001b[0mx\u001b[0m\u001b[1;33m)\u001b[0m\u001b[1;33m\u001b[0m\u001b[1;33m\u001b[0m\u001b[0m\n\u001b[0m\u001b[0;32m      5\u001b[0m \u001b[1;33m\u001b[0m\u001b[0m\n\u001b[0;32m      6\u001b[0m \u001b[1;31m#NameError: name 'x' is not defined     ##x is not defined, need to define x in order to print the value\u001b[0m\u001b[1;33m\u001b[0m\u001b[1;33m\u001b[0m\u001b[1;33m\u001b[0m\u001b[0m\n",
      "\u001b[1;31mNameError\u001b[0m: name 'x' is not defined"
     ]
    }
   ],
   "source": [
    "# d\n",
    "# Using an undeclared variable, such as print(x) when x has not been defined \n",
    "\n",
    "print(x)\n",
    "\n",
    "#NameError: name 'x' is not defined     ##x is not defined, need to define x in order to print the value"
   ]
  },
  {
   "cell_type": "code",
   "execution_count": 27,
   "metadata": {},
   "outputs": [
    {
     "ename": "FileNotFoundError",
     "evalue": "[Errno 2] No such file or directory: 'abc.txt'",
     "output_type": "error",
     "traceback": [
      "\u001b[1;31m---------------------------------------------------------------------------\u001b[0m",
      "\u001b[1;31mFileNotFoundError\u001b[0m                         Traceback (most recent call last)",
      "\u001b[1;32m<ipython-input-27-6a892bd5ba89>\u001b[0m in \u001b[0;36m<module>\u001b[1;34m\u001b[0m\n\u001b[0;32m      2\u001b[0m \u001b[1;31m# Trying to open a file that does not exist, such as mistyping the file name or looking in the wrong directory.\u001b[0m\u001b[1;33m\u001b[0m\u001b[1;33m\u001b[0m\u001b[1;33m\u001b[0m\u001b[0m\n\u001b[0;32m      3\u001b[0m \u001b[1;33m\u001b[0m\u001b[0m\n\u001b[1;32m----> 4\u001b[1;33m \u001b[0minfile\u001b[0m \u001b[1;33m=\u001b[0m \u001b[0mopen\u001b[0m\u001b[1;33m(\u001b[0m\u001b[1;34m'abc.txt'\u001b[0m\u001b[1;33m,\u001b[0m \u001b[1;34m'r'\u001b[0m\u001b[1;33m)\u001b[0m\u001b[1;33m\u001b[0m\u001b[1;33m\u001b[0m\u001b[0m\n\u001b[0m\u001b[0;32m      5\u001b[0m \u001b[1;33m\u001b[0m\u001b[0m\n\u001b[0;32m      6\u001b[0m \u001b[1;33m\u001b[0m\u001b[0m\n",
      "\u001b[1;31mFileNotFoundError\u001b[0m: [Errno 2] No such file or directory: 'abc.txt'"
     ]
    }
   ],
   "source": [
    "# e\n",
    "# Trying to open a file that does not exist, such as mistyping the file name or looking in the wrong directory.\n",
    "\n",
    "infile = open('abc.txt', 'r')\n",
    "\n",
    "\n",
    "#FileNotFoundError: [Errno 2] No such file or directory: 'abc.txt'  ## error because file doesnot exists at all"
   ]
  },
  {
   "cell_type": "code",
   "execution_count": 28,
   "metadata": {},
   "outputs": [],
   "source": [
    "# Question 8\n",
    "# Encryption is the process of hiding the meaning of a text by substituting letters in the message with other letters, \n",
    "# according to some system. If the process is successful, no one but the intended recipient can understand the encrypted message.\n",
    "# Cryptanalysis refers to attempts to undo the encryption, even if some details of the encryption are unknown\n",
    "# (for example, if an encrypted message has been intercepted). The first step of cryptanalysis is often to build up a table of \n",
    "# letter frequencies in the encrypted text. Assume that the string letters is already defined as 'abcdefghijklmnopqrstuvwxyz'. \n",
    "# Write a function called frequencies() that takes a string as its only parameter, and returns a list of integers, showing the \n",
    "# number of times each character appears in the text. Your function may ignore any characters that are not in letters.  \n",
    " "
   ]
  },
  {
   "cell_type": "code",
   "execution_count": 29,
   "metadata": {},
   "outputs": [
    {
     "data": {
      "text/plain": [
       "[1, 1, 1, 3, 5, 1, 1, 2, 1, 0, 1, 0, 1, 2, 4, 0, 1, 2, 0, 2, 1, 0, 1, 1, 0]"
      ]
     },
     "execution_count": 29,
     "metadata": {},
     "output_type": "execute_result"
    }
   ],
   "source": [
    "alphabet_letters=\"abcdefghijklmnopqrstuvwxyz\"    #assigning alphabets to variable\n",
    "def frequencies(s):                              # defining frequencies as a function which takes string values only                         \n",
    "                                      \n",
    "    counter=[]                                    # intializing the counter as a list                                                        \n",
    "    for x in range(0,len(alphabet_letters)-1):    #starting for statement 'x' for full alphabetic letter string\n",
    "        counter.append((s.count(alphabet_letters[x])))    #appending the letter as counter counts and returns the list of integer                   \n",
    "    return counter                                      #returning the counter as each time character appears in text\n",
    "\n",
    "frequencies('The quick red fox got bored and went home.')  # calling function frequencies with the input string\n"
   ]
  },
  {
   "cell_type": "code",
   "execution_count": 36,
   "metadata": {},
   "outputs": [
    {
     "data": {
      "text/plain": [
       "[1, 0, 0, 0, 1, 0, 0, 0, 0, 0, 0, 1, 0, 0, 0, 2, 0, 0, 0, 0, 0, 0, 0, 0, 0]"
      ]
     },
     "execution_count": 36,
     "metadata": {},
     "output_type": "execute_result"
    }
   ],
   "source": [
    "frequencies ('apple')  #calling function frequencies with input string as apple"
   ]
  },
  {
   "cell_type": "code",
   "execution_count": 33,
   "metadata": {},
   "outputs": [],
   "source": [
    "# Question 9\n",
    "# The Sieve of Erastophenes is an algorithm -- known to ancient Greeks -- that finds all prime numbers up to a given number n. \n",
    "# It does this by first creating a list L from 2 to n and an (initially empty) list primeL. The algorithm then takes the first\n",
    "# number in list L (2) and appends it to list primeL, and then removes 2 and all its multiples (4,6,8,10,12, ...) from L. \n",
    "# The algorithm then takes the new first number in L (3) and appends it to list primeL, and then removes from L 3 and all its \n",
    "# remaining multiples (9,15,21,...). So, in every iteration, the first number of list L is appended to list primeL and then it \n",
    "# and its multiples are removed from list L. The iterations stop when list L becomes empty. Write a function sieve() that takes \n",
    "# as input a positive integer n, implements the above algorithm, and returns a list of all prime numbers up to n. "
   ]
  },
  {
   "cell_type": "code",
   "execution_count": 41,
   "metadata": {},
   "outputs": [],
   "source": [
    "def sieve(n):                     #defining function sieve which takes only positive intger n\n",
    "    \n",
    "    Lst_Len=[]                          #defining list \n",
    "    for a in range(2,n):                # initializing for statement starting from 2 till end of the entered integer n\n",
    "        Lst_Len.append(a)               #appending number in list from above mentioned range 2 to n\n",
    "\n",
    "    Lst_Prime=[]                     #defining empty list prime\n",
    "    \n",
    "    for a in range(2,len(Lst_Len)+2):   #initializing foor loop starting from 2 till length of list added 2.\n",
    "\n",
    "        for b in Lst_Len:               #checking number in list\n",
    "            \n",
    "            if b % a == 0:        #initializing if loop and checking for remainder of b with a \n",
    "                Lst_Len.remove(b)   # if remainder is 0 then remove that number from the list\n",
    "                \n",
    "                if a not in Lst_Prime:     # if a is not in prime list then append the prime number into prime list creat\n",
    "                    Lst_Prime.append(a) \n",
    "                    \n",
    "    print(Lst_Prime) #printing the prime list"
   ]
  },
  {
   "cell_type": "code",
   "execution_count": 51,
   "metadata": {},
   "outputs": [
    {
     "name": "stdout",
     "output_type": "stream",
     "text": [
      "prime of 56 is\n",
      "[2, 3, 5, 7, 11, 13, 17, 19, 23, 29, 31, 37, 41, 43, 47, 53]\n",
      "prime of 368 is\n",
      "[2, 3, 5, 7, 11, 13, 17, 19, 23, 29, 31, 37, 41, 43, 47, 53, 59, 61, 67, 71, 73, 79, 83, 89, 97, 101, 103, 107, 109, 113, 127, 131, 137, 139, 149, 151, 157, 163, 167, 173, 179, 181, 191, 193, 197, 199, 211, 223, 227, 229, 233, 239, 241, 251, 257, 263, 269, 271, 277, 281, 283, 293, 307, 311, 313, 317, 331, 337, 347, 349, 353, 359, 367]\n",
      "prime of 32\n",
      "[2, 3, 5, 7, 11, 13, 17, 19, 23, 29, 31]\n"
     ]
    }
   ],
   "source": [
    "print('prime of 56 is') \n",
    "sieve(56)                   # calling the function sieve and printing the prime of 56\n",
    "\n",
    "print('prime of 368 is')\n",
    "sieve(368)              # calling the function sieve and printing the prime of 368\n",
    "\n",
    "print('prime of 32')\n",
    "sieve(32)               # calling the function sieve and printing the prime of 32"
   ]
  },
  {
   "cell_type": "code",
   "execution_count": 34,
   "metadata": {},
   "outputs": [],
   "source": [
    "# Question 10\n",
    "# Implement function triangleArea(a,b,c) that takes as input the lengths of the 3 sides of a triangle and returns the area \n",
    "# of the triangle. By Heron's formula, the area of a triangle with side lengths a, b, and c is \n",
    "# s(s-a)(s-b)(s-c), where \n",
    "# s=(a+b+c)/2."
   ]
  },
  {
   "cell_type": "code",
   "execution_count": 52,
   "metadata": {},
   "outputs": [
    {
     "name": "stdout",
     "output_type": "stream",
     "text": [
      "1.7320508075688772\n"
     ]
    }
   ],
   "source": [
    "import math                 #importing math lib always before using sqrt function\n",
    "from math import sqrt       #importing sqrt fnx from math\n",
    "\n",
    "def triangleArea(a,b,c):     #defining triangleArea as a function which takes a,b,c as integer which are sides of triangle\n",
    "    s = (a + b + c) / 2        #formula to calulate s\n",
    "    \n",
    "    area = math.sqrt(s * (s - a) * (s - b) * (s - c))   # formula to calculate area of triangle        \n",
    "    return area                                            #returing the area of triangle  \n",
    "\n",
    "print(triangleArea(2,2,2))                              #printing the area by calculating and calling function defined"
   ]
  },
  {
   "cell_type": "code",
   "execution_count": null,
   "metadata": {},
   "outputs": [],
   "source": []
  }
 ],
 "metadata": {
  "kernelspec": {
   "display_name": "Python 3",
   "language": "python",
   "name": "python3"
  },
  "language_info": {
   "codemirror_mode": {
    "name": "ipython",
    "version": 3
   },
   "file_extension": ".py",
   "mimetype": "text/x-python",
   "name": "python",
   "nbconvert_exporter": "python",
   "pygments_lexer": "ipython3",
   "version": "3.8.3"
  }
 },
 "nbformat": 4,
 "nbformat_minor": 4
}
